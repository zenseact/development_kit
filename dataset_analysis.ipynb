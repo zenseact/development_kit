{
 "cells": [
  {
   "cell_type": "code",
   "execution_count": null,
   "id": "e5c243c9",
   "metadata": {},
   "outputs": [],
   "source": [
    "import os\n",
    "import json\n",
    "\n",
    "import numpy as np\n",
    "import pandas as pd\n",
    "import seaborn as sns\n",
    "from venn import venn\n",
    "import matplotlib.pyplot as plt\n",
    "\n",
    "import utils\n",
    "from constants import DATA_ROOT"
   ]
  },
  {
   "cell_type": "markdown",
   "id": "dff7f95c",
   "metadata": {},
   "source": [
    "## Dataset analysis"
   ]
  },
  {
   "cell_type": "markdown",
   "id": "05ef3767",
   "metadata": {},
   "source": [
    "This dataset is provided with meta information such as weather conditions, solar conditions, dynamic objects present on annotated frames and present annotations for each frame."
   ]
  },
  {
   "cell_type": "code",
   "execution_count": null,
   "id": "822b5a94",
   "metadata": {},
   "outputs": [],
   "source": [
    "meta_info_file = os.path.join(DATA_ROOT, \"dataframes/metadata_info.csv\")\n",
    "meta_df = pd.read_csv(meta_info_file, index_col=False)\n",
    "meta_df['time']= pd.to_datetime(meta_df['time'])\n",
    "meta_df.head()"
   ]
  },
  {
   "cell_type": "code",
   "execution_count": null,
   "id": "b85c622a",
   "metadata": {},
   "outputs": [],
   "source": [
    "meta_df.describe()"
   ]
  },
  {
   "cell_type": "markdown",
   "id": "0def22fa",
   "metadata": {},
   "source": [
    "There are 7 columns with features:\n",
    "- 3 for amount of dynamic objects present on annotated frames (Pedestrian, Vehicle, VulnerableVehicle)\n",
    "- 2 for solar conditions (solar_angle_elevation and solar_angle_relative_azimuth)\n",
    "- 2 for weather conditions (cloud_cover and precipitation_type)\n",
    "precipitation_type is encoded. There is a weather_codes.csv file to decode it.\n",
    "\n",
    "Dataset consists of 6666 unique multimodal sequences. For each frame there is an annotated core one.  \n",
    "Vision data consists of the core frame and one previous and one next frame from vision log.  \n",
    "lidar_data is a full lidar scan that corresponds to the core frame.  \n",
    "range_lidar_data normally contains 21 lidar scans: the core one and full scans for 1s before and 1s after.  \n",
    "OXTS and vehicle data also grouped around the core timestamp.  \n",
    "sequence_id is unique identifier for each sequence, frame_id is unique identifier for each frame.\n",
    "\n",
    "Data have been collected by 2 vehicles: india and golf (vehicle).\n",
    "\n",
    "time column contains timestamps for each frame.\n",
    "\n",
    "There are 4 types of annotations:\n",
    "- dynamic_objects\n",
    "- ego_road\n",
    "- lane_markings\n",
    "- static_objects\n",
    "\n",
    "Corresponding columns have 0 or 1 values which says if specific frame have corresponding annotations."
   ]
  },
  {
   "cell_type": "code",
   "execution_count": null,
   "id": "1f833d5d",
   "metadata": {},
   "outputs": [],
   "source": [
    "feature_columns = [\"Pedestrian\", \"Vehicle\", \"VulnerableVehicle\", \"solar_angle_elevation\",\n",
    "                   \"solar_angle_relative_azimuth\", \"cloud_cover\", \"precipitation_type\"]"
   ]
  },
  {
   "cell_type": "code",
   "execution_count": null,
   "id": "b6f12cd6",
   "metadata": {},
   "outputs": [],
   "source": [
    "sns.set(style='whitegrid', palette=\"deep\", font_scale=1.1)\n",
    "sns_plot = sns.pairplot(data=meta_df[feature_columns])"
   ]
  },
  {
   "cell_type": "markdown",
   "id": "7eba2f39",
   "metadata": {},
   "source": [
    "### Plot histograms for features"
   ]
  },
  {
   "cell_type": "code",
   "execution_count": null,
   "id": "c399e226",
   "metadata": {},
   "outputs": [],
   "source": [
    "sns.set(style='whitegrid', palette=\"deep\", font_scale=1.1, rc={\"figure.figsize\": [14, 8]})\n",
    "\n",
    "ax = sns.barplot(x=\"Pedestrian\", y=\"Pedestrian\", data=meta_df, \n",
    "                 estimator=lambda x: len(x) / len(meta_df) * 100)\n",
    "ax.set(xlabel='Pedestrian', ylabel=\"Percent\")\n",
    "ax.set(xlim=(-1, 22))"
   ]
  },
  {
   "cell_type": "code",
   "execution_count": null,
   "id": "2511cfe4",
   "metadata": {},
   "outputs": [],
   "source": [
    "sns.set(style='whitegrid', palette=\"deep\", font_scale=1, rc={\"figure.figsize\": [20, 8]})\n",
    "ax = sns.barplot(x=\"Vehicle\", y=\"Vehicle\", data=meta_df, \n",
    "                 estimator=lambda x: len(x) / len(meta_df) * 100)\n",
    "for item in ax.get_xticklabels():\n",
    "    item.set_rotation(90)\n",
    "ax.set(xlabel='Vehicle', ylabel=\"Percent\")\n",
    "ax.set(xlim=(-1, 70))"
   ]
  },
  {
   "cell_type": "code",
   "execution_count": null,
   "id": "b46e2222",
   "metadata": {},
   "outputs": [],
   "source": [
    "sns.set(style='whitegrid', palette=\"deep\", font_scale=1.1, rc={\"figure.figsize\": [14, 8]})\n",
    "ax = sns.barplot(x=\"VulnerableVehicle\", y=\"VulnerableVehicle\", data=meta_df, \n",
    "                 estimator=lambda x: len(x) / len(meta_df) * 100)\n",
    "ax.set(xlabel='VulnerableVehicle', ylabel=\"Percent\")\n",
    "ax.set(xlim=(-1, 10))"
   ]
  },
  {
   "cell_type": "code",
   "execution_count": null,
   "id": "585babd0",
   "metadata": {},
   "outputs": [],
   "source": [
    "fig, ax = plt.subplots()\n",
    "col = meta_df['solar_angle_relative_azimuth'].dropna()\n",
    "col.hist(range=(-180, 180), weights=np.ones(len(col)) / len(col)*100, bins=20, ax=ax).set(\n",
    "    xlabel='Solar Angle Relative Azimuth', ylabel=\"Percent\")"
   ]
  },
  {
   "cell_type": "code",
   "execution_count": null,
   "id": "b0de7965",
   "metadata": {},
   "outputs": [],
   "source": [
    "fig, ax = plt.subplots()\n",
    "col = meta_df['solar_angle_elevation'].dropna()\n",
    "col.hist(range=(-25, 55), weights=np.ones(len(col)) / len(col)*100, bins=20, ax=ax).set(\n",
    "    xlabel='Solar Angle Elevation', ylabel=\"Percent\")"
   ]
  },
  {
   "cell_type": "code",
   "execution_count": null,
   "id": "2707c4ec",
   "metadata": {},
   "outputs": [],
   "source": [
    "fig, ax = plt.subplots()\n",
    "col = meta_df['cloud_cover'].dropna()\n",
    "col.hist(weights=np.ones(len(col)) / len(col)*100, bins=20, ax=ax).set(\n",
    "    xlabel='Cloud Cover', ylabel=\"Percent\")"
   ]
  },
  {
   "cell_type": "code",
   "execution_count": null,
   "id": "176c3ca1",
   "metadata": {},
   "outputs": [],
   "source": [
    "with open(os.path.join(DATA_ROOT, \"dataframes/weather_codes.json\"), \"r\") as f:\n",
    "    weather_codes = json.loads(f.read())\n",
    "    weather_codes = {int(key): value for key, value in weather_codes.items()}\n",
    "\n",
    "meta_df[\"prec_decoded\"] = meta_df[\"precipitation_type\"].replace(to_replace=weather_codes).values.tolist()\n",
    "ax = sns.barplot(y=\"precipitation_type\", x=\"prec_decoded\", data=meta_df, \n",
    "                 estimator=lambda x: len(x) / len(meta_df) * 100)\n",
    "ax.set(xlabel='Precipitation Type', ylabel=\"Percent\")"
   ]
  },
  {
   "cell_type": "markdown",
   "id": "fddff62f",
   "metadata": {},
   "source": [
    "Plot Venn diagram for annotation types."
   ]
  },
  {
   "cell_type": "code",
   "execution_count": null,
   "id": "855b9d85",
   "metadata": {},
   "outputs": [],
   "source": [
    "dynamic_objects = meta_df.iloc[meta_df[\"dynamic_objects\"].to_numpy().nonzero()].index.tolist()\n",
    "lane_markings = meta_df.iloc[meta_df[\"lane_markings\"].to_numpy().nonzero()].index.tolist()\n",
    "ego_road = meta_df.iloc[meta_df[\"ego_road\"].to_numpy().nonzero()].index.tolist()\n",
    "static_objects = meta_df.iloc[meta_df[\"static_objects\"].to_numpy().nonzero()].index.tolist()\n",
    "\n",
    "labels = [\"dynamic_objects\", \"lane_markings\", \"ego_road\", \"static_objects\"]\n",
    "sets = {\n",
    "    labels[0]: set(dynamic_objects),\n",
    "    labels[1]: set(lane_markings),\n",
    "    labels[2]: set(ego_road),\n",
    "    labels[3]: set(static_objects),\n",
    "}\n",
    "fig, ax = plt.subplots(1, figsize=(16,12))\n",
    "venn(sets, ax=ax)\n",
    "plt.legend(labels, ncol=4)\n",
    "plt.show()"
   ]
  },
  {
   "cell_type": "markdown",
   "id": "519413da",
   "metadata": {},
   "source": [
    "Plot timeline of data collection."
   ]
  },
  {
   "cell_type": "code",
   "execution_count": null,
   "id": "c0fec9e5",
   "metadata": {},
   "outputs": [],
   "source": [
    "fig, ax = plt.subplots()\n",
    "meta_df['time'].hist(weights=np.ones(len(meta_df)) / len(meta_df)*100, bins=22, ax=ax, xrot=45).set(\n",
    "    xlabel='Data Collection Time', ylabel=\"Percent\")"
   ]
  },
  {
   "cell_type": "markdown",
   "id": "5c56366f",
   "metadata": {},
   "source": [
    "Plot place of data collection."
   ]
  },
  {
   "cell_type": "code",
   "execution_count": null,
   "id": "cb016698",
   "metadata": {},
   "outputs": [],
   "source": [
    "ALL_FRAMES_COORDINATES = os.path.join(DATA_ROOT, \"frame_coordinates.json\")\n",
    "utils.show_gps_for_all_frames(ALL_FRAMES_COORDINATES)"
   ]
  }
 ],
 "metadata": {
  "kernelspec": {
   "display_name": "Python 3",
   "language": "python",
   "name": "python3"
  },
  "language_info": {
   "codemirror_mode": {
    "name": "ipython",
    "version": 3
   },
   "file_extension": ".py",
   "mimetype": "text/x-python",
   "name": "python",
   "nbconvert_exporter": "python",
   "pygments_lexer": "ipython3",
   "version": "3.8.3"
  }
 },
 "nbformat": 4,
 "nbformat_minor": 5
}
